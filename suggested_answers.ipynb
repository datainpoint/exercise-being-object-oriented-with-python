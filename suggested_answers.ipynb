{
 "cells": [
  {
   "cell_type": "markdown",
   "metadata": {
    "deletable": false,
    "editable": false
   },
   "source": [
    "## Programming with Python\n",
    "\n",
    "> Exercises: Being Object-Oriented with Python.\n",
    "\n",
    "Kuo, Yao-Jen <yaojenkuo@datainpoint.com> from [DATAINPOINT](https://www.datainpoint.com)"
   ]
  },
  {
   "cell_type": "markdown",
   "metadata": {},
   "source": [
    "## Define a class named `Aggregator` with 2 methods: `summation` and `product`\n",
    "\n",
    "- Expected inputs：`*args`\n",
    "- Expected outputs：a numeric"
   ]
  },
  {
   "cell_type": "code",
   "execution_count": 1,
   "metadata": {},
   "outputs": [],
   "source": [
    "class Aggregator:\n",
    "    \"\"\"\n",
    "    >>> agg = Aggregator()\n",
    "    >>> agg.summation(5, 6)\n",
    "    11\n",
    "    >>> agg.product(5, 5, 6, 6)\n",
    "    900\n",
    "    >>> agg.summation(7, 7, 8, 8)\n",
    "    30\n",
    "    >>> agg.product(7, 8)\n",
    "    56\n",
    "    \"\"\"\n",
    "    ### BEGIN SOLUTION\n",
    "    def summation(self, *args):\n",
    "        return sum(args)\n",
    "    def product(self, *args):\n",
    "        prod = 1\n",
    "        for arg in args:\n",
    "            prod *= arg\n",
    "        return prod\n",
    "    ### END SOLUTION"
   ]
  },
  {
   "cell_type": "markdown",
   "metadata": {},
   "source": [
    "## Define a class named `NewAggregator` inherited from previously defined `Aggregator`, which adds 2 more methods `length` and `mean`\n",
    "\n",
    "- Expected inputs：`*args`\n",
    "- Expected outputs：a numeric"
   ]
  },
  {
   "cell_type": "code",
   "execution_count": 2,
   "metadata": {},
   "outputs": [],
   "source": [
    "class NewAggregator(Aggregator):\n",
    "    \"\"\"\n",
    "    >>> new_agg = NewAggregator()\n",
    "    >>> new_agg.summation(5, 6)\n",
    "    11\n",
    "    >>> new_agg.product(5, 5, 6, 6)\n",
    "    900\n",
    "    >>> new_agg.summation(7, 7, 8, 8)\n",
    "    30\n",
    "    >>> new_agg.product(7, 8)\n",
    "    56\n",
    "    >>> new_agg.length(5, 6)\n",
    "    2\n",
    "    >>> new_agg.mean(5, 5, 6, 6)\n",
    "    5.5\n",
    "    \"\"\"\n",
    "    ### BEGIN SOLUTION\n",
    "    def length(self, *args):\n",
    "        return len(args)\n",
    "    def mean(self, *args):\n",
    "        return sum(args) / len(args)\n",
    "    ### END SOLUTION"
   ]
  },
  {
   "cell_type": "markdown",
   "metadata": {},
   "source": [
    "## Define a class named `CheckPrime` with 2 methods `get_factors` and `is_prime`\n",
    "\n",
    "- Expected inputs：an integer `x`\n",
    "- Expected outputs：a set / a boolean"
   ]
  },
  {
   "cell_type": "code",
   "execution_count": 3,
   "metadata": {},
   "outputs": [],
   "source": [
    "class CheckPrime:\n",
    "    \"\"\"\n",
    "    >>> check_prime = CheckPrime(1)\n",
    "    >>> check_prime.get_factors()\n",
    "    {1}\n",
    "    >>> check_prime.is_prime()\n",
    "    False\n",
    "    >>> check_prime = CheckPrime(2)\n",
    "    >>> check_prime.get_factors()\n",
    "    {1, 2}\n",
    "    >>> check_prime.is_prime()\n",
    "    True\n",
    "    >>> check_prime = CheckPrime(3)\n",
    "    >>> check_prime.get_factors()\n",
    "    {1, 3}\n",
    "    >>> check_prime.is_prime()\n",
    "    True\n",
    "    >>> check_prime = CheckPrime(4)\n",
    "    >>> check_prime.get_factors()\n",
    "    {1, 2, 4}\n",
    "    >>> check_prime.is_prime()\n",
    "    False\n",
    "    \"\"\"\n",
    "    ### BEGIN SOLUTION\n",
    "    def __init__(self, x):\n",
    "        self.x = x\n",
    "    def get_factors(self):\n",
    "        factors = {i for i in range(1, self.x + 1) if self.x % i == 0}\n",
    "        return factors\n",
    "    def is_prime(self):\n",
    "        factors_of_x = self.get_factors()\n",
    "        n_factors_of_x = len(factors_of_x)\n",
    "        return n_factors_of_x == 2\n",
    "    ### END SOLUTION"
   ]
  },
  {
   "cell_type": "markdown",
   "metadata": {},
   "source": [
    "## Define a class named `Describe` with methods `count`, `mean`, `minimum`, `maximum`\n",
    "\n",
    "- Expected inputs：a list-like range\n",
    "- Expected outputs：a numeric"
   ]
  },
  {
   "cell_type": "code",
   "execution_count": 4,
   "metadata": {},
   "outputs": [],
   "source": [
    "class Describe:\n",
    "    \"\"\"\n",
    "    >>> describe = Describe(range(1, 11))\n",
    "    >>> describe.count()\n",
    "    10\n",
    "    >>> describe.mean()\n",
    "    5.5\n",
    "    >>> describe.minimum()\n",
    "    1\n",
    "    >>> describe.maximum()\n",
    "    10\n",
    "    \"\"\"\n",
    "    ### BEGIN SOLUTION\n",
    "    def __init__(self, x):\n",
    "        self.x = x\n",
    "    def count(self):\n",
    "        return len(self.x)\n",
    "    def mean(self):\n",
    "        return sum(self.x) / len(self.x)\n",
    "    def minimum(self):\n",
    "        return min(self.x)\n",
    "    def maximum(self):\n",
    "        return max(self.x)\n",
    "    ### END SOLUTION"
   ]
  },
  {
   "cell_type": "markdown",
   "metadata": {},
   "source": [
    "## Define a class named `NewDescribe` inherited from previously defined `Describe`, which adds 3 more methods `std`, `median`, and `summary`\n",
    "\n",
    "\\begin{equation}\n",
    "\\sigma = \\sqrt{\\frac{\\sum(x_i - \\mu)^2}{N}}\n",
    "\\end{equation}\n",
    "\n",
    "\\begin{align}\n",
    "\\sigma &= \\text{population standard deviation} \\\\\n",
    "N &= \\text{the size of the population} \\\\\n",
    "x_i &= \\text{each value from the population} \\\\\n",
    "\\mu &= \\text{the population mean}\n",
    "\\end{align}\n",
    "\n",
    "\n",
    "- Expected inputs：a list-like range\n",
    "- Expected outputs：a numeric / a dict"
   ]
  },
  {
   "cell_type": "code",
   "execution_count": 5,
   "metadata": {},
   "outputs": [],
   "source": [
    "class NewDescribe(Describe):\n",
    "    \"\"\"\n",
    "    >>> new_describe = NewDescribe(range(1, 11))\n",
    "    >>> new_describe.std()\n",
    "    2.8722813232690143\n",
    "    >>> new_describe.median()\n",
    "    5.5\n",
    "    >>> new_describe.summary()['count']\n",
    "    10\n",
    "    >>> new_describe.summary()['mean']\n",
    "    5.5\n",
    "    >>> new_describe.summary()['min']\n",
    "    1\n",
    "    >>> new_describe.summary()['max']\n",
    "    10\n",
    "    \"\"\"\n",
    "    ### BEGIN SOLUTION\n",
    "    def std(self):\n",
    "        mu = self.mean()\n",
    "        N = self.count()\n",
    "        sse = 0\n",
    "        for i in self.x:\n",
    "            sse += (i - mu)**2\n",
    "        mse = sse / N\n",
    "        return mse**0.5\n",
    "    def median(self):\n",
    "        list_x = list(self.x)\n",
    "        sorted_x = sorted(list_x)\n",
    "        len_x = self.count()\n",
    "        if len_x % 2 == 1:\n",
    "            median_idx = len_x // 2\n",
    "            return sorted_x[median_idx]\n",
    "        else:\n",
    "            median_idx_0, median_idx_1 = len_x // 2 - 1, len_x // 2\n",
    "            return (sorted_x[median_idx_0] + sorted_x[median_idx_1]) / 2\n",
    "    def summary(self):\n",
    "        summary_dict = {\n",
    "            'count': self.count(),\n",
    "            'mean': self.mean(),\n",
    "            'std': self.std(),\n",
    "            'min': self.minimum(),\n",
    "            'median': self.median(),\n",
    "            'max': self.maximum()\n",
    "        }\n",
    "        return summary_dict\n",
    "    ### END SOLUTION"
   ]
  },
  {
   "cell_type": "markdown",
   "metadata": {
    "deletable": false,
    "editable": false
   },
   "source": [
    "## Run tests!\n",
    "\n",
    "Kernel -> Restart & Run All -> Restart and Run All Cells."
   ]
  },
  {
   "cell_type": "code",
   "execution_count": 6,
   "metadata": {
    "deletable": false,
    "editable": false
   },
   "outputs": [
    {
     "name": "stderr",
     "output_type": "stream",
     "text": [
      "test_00_Aggregator (__main__.TestAdvancedTopicsInPython) ... ok\n",
      "test_01_NewAggregator (__main__.TestAdvancedTopicsInPython) ... ok\n",
      "test_02_CheckPrime (__main__.TestAdvancedTopicsInPython) ... ok\n",
      "test_03_Describe (__main__.TestAdvancedTopicsInPython) ... ok\n",
      "test_04_NewDescribe (__main__.TestAdvancedTopicsInPython) ... ok\n",
      "\n",
      "----------------------------------------------------------------------\n",
      "Ran 5 tests in 0.008s\n",
      "\n",
      "OK\n"
     ]
    }
   ],
   "source": [
    "import unittest\n",
    "\n",
    "class TestAdvancedTopicsInPython(unittest.TestCase):\n",
    "    def test_00_Aggregator(self):\n",
    "        agg = Aggregator()\n",
    "        self.assertEqual(agg.summation(5, 6), 11)\n",
    "        self.assertEqual(agg.product(5, 5, 6, 6), 900)\n",
    "        self.assertEqual(agg.summation(7, 7, 8, 8), 30)\n",
    "        self.assertEqual(agg.product(7, 8), 56)\n",
    "    def test_01_NewAggregator(self):\n",
    "        new_agg = NewAggregator()\n",
    "        self.assertEqual(new_agg.summation(5, 6), 11)\n",
    "        self.assertEqual(new_agg.product(5, 5, 6, 6), 900)\n",
    "        self.assertEqual(new_agg.summation(7, 7, 8, 8), 30)\n",
    "        self.assertEqual(new_agg.product(7, 8), 56)\n",
    "        self.assertEqual(new_agg.length(5, 6), 2)\n",
    "        self.assertEqual(new_agg.mean(5, 5, 6, 6), 5.5)\n",
    "    def test_02_CheckPrime(self):\n",
    "        check_prime = CheckPrime(1)\n",
    "        self.assertEqual(check_prime.get_factors(), {1})\n",
    "        self.assertFalse(check_prime.is_prime())\n",
    "        check_prime = CheckPrime(2)\n",
    "        self.assertEqual(check_prime.get_factors(), {1, 2})\n",
    "        self.assertTrue(check_prime.is_prime())\n",
    "        check_prime = CheckPrime(3)\n",
    "        self.assertEqual(check_prime.get_factors(), {1, 3})\n",
    "        self.assertTrue(check_prime.is_prime(), True)\n",
    "        check_prime = CheckPrime(4)\n",
    "        self.assertEqual(check_prime.get_factors(), {1, 2, 4})\n",
    "        self.assertFalse(check_prime.is_prime())\n",
    "    def test_03_Describe(self):\n",
    "        describe = Describe(range(1, 11))\n",
    "        self.assertEqual(describe.count(), 10)\n",
    "        self.assertAlmostEqual(describe.mean(), 5.5)\n",
    "        self.assertEqual(describe.minimum(), 1)\n",
    "        self.assertEqual(describe.maximum(), 10)\n",
    "    def test_04_NewDescribe(self):\n",
    "        new_describe = NewDescribe(range(1, 11))\n",
    "        self.assertAlmostEqual(new_describe.std(), 2.8722813232690143)\n",
    "        self.assertAlmostEqual(new_describe.median(), 5.5)\n",
    "        self.assertIsInstance(new_describe.summary(), dict)\n",
    "        self.assertEqual(new_describe.summary()['count'], 10)\n",
    "        self.assertAlmostEqual(new_describe.summary()['mean'], 5.5)\n",
    "        self.assertEqual(new_describe.summary()['min'], 1)\n",
    "        self.assertEqual(new_describe.summary()['max'], 10)\n",
    "\n",
    "suite = unittest.TestLoader().loadTestsFromTestCase(TestAdvancedTopicsInPython)\n",
    "runner = unittest.TextTestRunner(verbosity=2)\n",
    "test_results = runner.run(suite)\n",
    "number_of_failures = len(test_results.failures)\n",
    "number_of_errors = len(test_results.errors)\n",
    "number_of_test_runs = test_results.testsRun\n",
    "number_of_successes = number_of_test_runs - (number_of_failures + number_of_errors)"
   ]
  },
  {
   "cell_type": "code",
   "execution_count": 7,
   "metadata": {
    "deletable": false,
    "editable": false
   },
   "outputs": [
    {
     "name": "stdout",
     "output_type": "stream",
     "text": [
      "You've got 5 successes among 5 questions.\n"
     ]
    }
   ],
   "source": [
    "print(\"You've got {} successes among {} questions.\".format(number_of_successes, number_of_test_runs))"
   ]
  }
 ],
 "metadata": {
  "celltoolbar": "Edit Metadata",
  "kernelspec": {
   "display_name": "Python 3",
   "language": "python",
   "name": "python3"
  },
  "language_info": {
   "codemirror_mode": {
    "name": "ipython",
    "version": 3
   },
   "file_extension": ".py",
   "mimetype": "text/x-python",
   "name": "python",
   "nbconvert_exporter": "python",
   "pygments_lexer": "ipython3",
   "version": "3.8.5"
  }
 },
 "nbformat": 4,
 "nbformat_minor": 4
}
